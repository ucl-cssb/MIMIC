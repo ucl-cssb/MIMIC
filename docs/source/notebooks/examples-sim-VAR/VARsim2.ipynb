{
 "cells": [
  {
   "cell_type": "code",
   "execution_count": 5,
   "metadata": {},
   "outputs": [],
   "source": [
    "from mimic.model_simulate.base_model import BaseModel\n",
    "from mimic.model_simulate.VAR_sim import *"
   ]
  },
  {
   "cell_type": "code",
   "execution_count": 8,
   "metadata": {},
   "outputs": [],
   "source": [
    "\n",
    "\n",
    "model = VARSimulator()\n"
   ]
  },
  {
   "cell_type": "code",
   "execution_count": 9,
   "metadata": {},
   "outputs": [
    {
     "name": "stdout",
     "output_type": "stream",
     "text": [
      "data: None\n",
      "model: None\n",
      "parameters: None\n",
      "n_obs: 100\n",
      "coefficients: [[ 0.8 -0.2]\n",
      " [ 0.3  0.5]]\n",
      "initial_values: [[1]\n",
      " [2]]\n",
      "noise_stddev: 1.0\n",
      "output: show\n",
      "dataM: None\n"
     ]
    }
   ],
   "source": [
    "model.print_parameters()"
   ]
  },
  {
   "cell_type": "code",
   "execution_count": 10,
   "metadata": {},
   "outputs": [],
   "source": [
    "model.read_parameters(r'C:\\Users\\User\\Documents\\GitHub\\MIMIC\\examples\\examples-sim-VAR\\parameters.json')"
   ]
  },
  {
   "cell_type": "code",
   "execution_count": 11,
   "metadata": {},
   "outputs": [
    {
     "name": "stdout",
     "output_type": "stream",
     "text": [
      "data: None\n",
      "model: None\n",
      "parameters: {'n_obs': 100, 'coefficients': [[0.8, -0.2], [0.3, 0.5]], 'initial_values': [[1], [2]], 'noise_stddev': 1.0, 'output': 'show'}\n",
      "n_obs: 100\n",
      "coefficients: [[ 0.8 -0.2]\n",
      " [ 0.3  0.5]]\n",
      "initial_values: [[1]\n",
      " [2]]\n",
      "noise_stddev: 1.0\n",
      "output: show\n",
      "dataM: None\n"
     ]
    }
   ],
   "source": [
    "model.print_parameters()"
   ]
  }
 ],
 "metadata": {
  "kernelspec": {
   "display_name": "MIMIC",
   "language": "python",
   "name": "python3"
  },
  "language_info": {
   "codemirror_mode": {
    "name": "ipython",
    "version": 3
   },
   "file_extension": ".py",
   "mimetype": "text/x-python",
   "name": "python",
   "nbconvert_exporter": "python",
   "pygments_lexer": "ipython3",
   "version": "3.11.7"
  }
 },
 "nbformat": 4,
 "nbformat_minor": 2
}
