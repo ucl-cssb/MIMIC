{
    "cells": [
        {
            "cell_type": "code",
            "execution_count": 1,
            "id": "f07fa1f2-187e-4ce0-af95-31d6120977fe",
            "metadata": {
                "pycharm": {
                    "name": "#%%\n"
                }
            },
            "outputs": [
                {
                    "name": "stderr",
                    "output_type": "stream",
                    "text": [
                        "WARNING (pytensor.tensor.blas): Using NumPy C-API based implementation for BLAS functions.\n"
                    ]
                }
            ],
            "source": [
                "from mimic.utilities.utilities import set_all_seeds\n",
                "from mimic.utilities.utilities import plot_gMLV\n",
                "from mimic.model_infer import *\n",
                "from mimic.model_simulate import *\n",
                "import pandas as pd\n",
                "\n",
                "\n",
                "import numpy as np\n",
                "\n",
                "\n",
                "import matplotlib.pyplot as plt\n",
                "\n",
                "\n",
                "from scipy.integrate import odeint\n",
                "\n",
                "\n",
                "from numpy import linalg as la\n",
                "\n",
                "import sklearn.linear_model\n",
                "\n",
                "\n",
                "from sklearn.linear_model import LinearRegression\n",
                "\n",
                "\n",
                "from sklearn.linear_model import Ridge\n",
                "\n",
                "\n",
                "from sklearn.linear_model import Lasso\n",
                "\n",
                "\n",
                "from sklearn.linear_model import ElasticNet, ElasticNetCV\n",
                "\n",
                "\n",
                "from sklearn.model_selection import RepeatedKFold\n",
                "\n",
                "\n",
                "from sklearn.model_selection import cross_val_score\n",
                "\n",
                "\n",
                "from sklearn.model_selection import KFold\n",
                "\n",
                "\n",
                "from sklearn.model_selection import GridSearchCV\n",
                "\n",
                "\n",
                "import sys\n",
                "\n",
                "\n",
                "sys.path.append(\"../../\")"
            ]
        },
        {
            "cell_type": "markdown",
            "id": "82eb9f01",
            "metadata": {
                "pycharm": {
                    "name": "#%% md\n"
                }
            },
            "source": [
                "## Simulate some time course data from the gMLV\n",
                "\n",
                "### Five species, six metabolites, single time course"
            ]
        },
        {
            "cell_type": "markdown",
            "id": "4501a3a3",
            "metadata": {
                "pycharm": {
                    "name": "#%% md\n"
                }
            },
            "source": [
                "This model assumes metabolite production is associated with abundance:  dS/dt = alpha X <br>\n",
                "Note that this model needs rethinking as it cannot handle negative productivities <br>\n",
                "In this simple example we don't need to infer the time course. We just linearize and estimate the elements of alpha with Lasso<br>\n",
                "Number of metabolites is 6 here"
            ]
        },
        {
            "cell_type": "code",
            "execution_count": 2,
            "id": "9d348926",
            "metadata": {
                "collapsed": false,
                "jupyter": {
                    "outputs_hidden": false
                },
                "pycharm": {
                    "name": "#%%\n"
                }
            },
            "outputs": [
                {
                    "ename": "AttributeError",
                    "evalue": "'int' object has no attribute 'multiply'",
                    "output_type": "error",
                    "traceback": [
                        "\u001b[1;31m---------------------------------------------------------------------------\u001b[0m",
                        "\u001b[1;31mAttributeError\u001b[0m                            Traceback (most recent call last)",
                        "Cell \u001b[1;32mIn[2], line 39\u001b[0m\n\u001b[0;32m     36\u001b[0m init_metabolites \u001b[38;5;241m=\u001b[39m \u001b[38;5;241m10\u001b[39m \u001b[38;5;241m*\u001b[39m np\u001b[38;5;241m.\u001b[39mones(num_metabolites)\n\u001b[0;32m     38\u001b[0m times \u001b[38;5;241m=\u001b[39m np\u001b[38;5;241m.\u001b[39marange(\u001b[38;5;241m0\u001b[39m, \u001b[38;5;241m5\u001b[39m, \u001b[38;5;241m0.1\u001b[39m)\n\u001b[1;32m---> 39\u001b[0m yobs, sobs, sy0, _, _, _ \u001b[38;5;241m=\u001b[39m simulator\u001b[38;5;241m.\u001b[39msimulate(\n\u001b[0;32m     40\u001b[0m     times\u001b[38;5;241m=\u001b[39mtimes, sy0\u001b[38;5;241m=\u001b[39mnp\u001b[38;5;241m.\u001b[39mhstack((init_species, init_metabolites)))\n\u001b[0;32m     42\u001b[0m \u001b[38;5;66;03m# add some gaussian noise\u001b[39;00m\n\u001b[0;32m     43\u001b[0m yobs \u001b[38;5;241m=\u001b[39m yobs \u001b[38;5;241m+\u001b[39m np\u001b[38;5;241m.\u001b[39mrandom\u001b[38;5;241m.\u001b[39mnormal(loc\u001b[38;5;241m=\u001b[39m\u001b[38;5;241m0\u001b[39m, scale\u001b[38;5;241m=\u001b[39m\u001b[38;5;241m0.1\u001b[39m, size\u001b[38;5;241m=\u001b[39myobs\u001b[38;5;241m.\u001b[39mshape)\n",
                        "File \u001b[1;32mc:\\Users\\User\\Documents\\GitHub\\MIMIC\\mimic\\model_simulate\\sim_gMLV.py:104\u001b[0m, in \u001b[0;36msim_gMLV.simulate\u001b[1;34m(self, times, sy0, u)\u001b[0m\n\u001b[0;32m    103\u001b[0m \u001b[38;5;28;01mdef\u001b[39;00m \u001b[38;5;21msimulate\u001b[39m(\u001b[38;5;28mself\u001b[39m, times, sy0, u\u001b[38;5;241m=\u001b[39m\u001b[38;5;28;01mNone\u001b[39;00m):\n\u001b[1;32m--> 104\u001b[0m     syobs \u001b[38;5;241m=\u001b[39m odeint(gMLV, sy0, times, args\u001b[38;5;241m=\u001b[39m(\u001b[38;5;28mself\u001b[39m\u001b[38;5;241m.\u001b[39mnsp, \u001b[38;5;28mself\u001b[39m\u001b[38;5;241m.\u001b[39mnp,\n\u001b[0;32m    105\u001b[0m                    \u001b[38;5;28mself\u001b[39m\u001b[38;5;241m.\u001b[39mmu, \u001b[38;5;28mself\u001b[39m\u001b[38;5;241m.\u001b[39mM, \u001b[38;5;28mself\u001b[39m\u001b[38;5;241m.\u001b[39mbeta, \u001b[38;5;28mself\u001b[39m\u001b[38;5;241m.\u001b[39mepsilon, u))\n\u001b[0;32m    106\u001b[0m     yobs \u001b[38;5;241m=\u001b[39m syobs[:, \u001b[38;5;241m0\u001b[39m:\u001b[38;5;28mself\u001b[39m\u001b[38;5;241m.\u001b[39mnsp]\n\u001b[0;32m    107\u001b[0m     sobs \u001b[38;5;241m=\u001b[39m syobs[:, \u001b[38;5;28mself\u001b[39m\u001b[38;5;241m.\u001b[39mnsp:]\n",
                        "File \u001b[1;32mc:\\ProgramData\\anaconda3\\envs\\MIMIC\\Lib\\site-packages\\scipy\\integrate\\_odepack_py.py:242\u001b[0m, in \u001b[0;36modeint\u001b[1;34m(func, y0, t, args, Dfun, col_deriv, full_output, ml, mu, rtol, atol, tcrit, h0, hmax, hmin, ixpr, mxstep, mxhnil, mxordn, mxords, printmessg, tfirst)\u001b[0m\n\u001b[0;32m    240\u001b[0m t \u001b[38;5;241m=\u001b[39m copy(t)\n\u001b[0;32m    241\u001b[0m y0 \u001b[38;5;241m=\u001b[39m copy(y0)\n\u001b[1;32m--> 242\u001b[0m output \u001b[38;5;241m=\u001b[39m _odepack\u001b[38;5;241m.\u001b[39modeint(func, y0, t, args, Dfun, col_deriv, ml, mu,\n\u001b[0;32m    243\u001b[0m                          full_output, rtol, atol, tcrit, h0, hmax, hmin,\n\u001b[0;32m    244\u001b[0m                          ixpr, mxstep, mxhnil, mxordn, mxords,\n\u001b[0;32m    245\u001b[0m                          \u001b[38;5;28mint\u001b[39m(\u001b[38;5;28mbool\u001b[39m(tfirst)))\n\u001b[0;32m    246\u001b[0m \u001b[38;5;28;01mif\u001b[39;00m output[\u001b[38;5;241m-\u001b[39m\u001b[38;5;241m1\u001b[39m] \u001b[38;5;241m<\u001b[39m \u001b[38;5;241m0\u001b[39m:\n\u001b[0;32m    247\u001b[0m     warning_msg \u001b[38;5;241m=\u001b[39m _msgs[output[\u001b[38;5;241m-\u001b[39m\u001b[38;5;241m1\u001b[39m]] \u001b[38;5;241m+\u001b[39m \u001b[38;5;124m\"\u001b[39m\u001b[38;5;124m Run with full_output = 1 to get quantitative information.\u001b[39m\u001b[38;5;124m\"\u001b[39m\n",
                        "File \u001b[1;32mc:\\Users\\User\\Documents\\GitHub\\MIMIC\\mimic\\model_simulate\\sim_gMLV.py:141\u001b[0m, in \u001b[0;36mgMLV\u001b[1;34m(sy, t, nsp, np, mu, M, beta, epsilon, u)\u001b[0m\n\u001b[0;32m    130\u001b[0m \u001b[38;5;66;03m# if np > 0:\u001b[39;00m\n\u001b[0;32m    131\u001b[0m \u001b[38;5;66;03m#    for p_i in range(np):\u001b[39;00m\n\u001b[0;32m    132\u001b[0m \u001b[38;5;66;03m#        if tp[p_i][0] <= t < tp[p_i][1]:\u001b[39;00m\n\u001b[1;32m   (...)\u001b[0m\n\u001b[0;32m    136\u001b[0m \u001b[38;5;66;03m# else:\u001b[39;00m\n\u001b[0;32m    137\u001b[0m \u001b[38;5;66;03m#    instantaneous_growth = mu + M @ y\u001b[39;00m\n\u001b[0;32m    139\u001b[0m instantaneous_growth \u001b[38;5;241m=\u001b[39m mu \u001b[38;5;241m+\u001b[39m \\\n\u001b[0;32m    140\u001b[0m     M \u001b[38;5;241m@\u001b[39m y \u001b[38;5;28;01mif\u001b[39;00m u \u001b[38;5;129;01mis\u001b[39;00m \u001b[38;5;28;01mNone\u001b[39;00m \u001b[38;5;28;01melse\u001b[39;00m mu \u001b[38;5;241m+\u001b[39m M \u001b[38;5;241m@\u001b[39m y \u001b[38;5;241m+\u001b[39m epsilon \u001b[38;5;241m@\u001b[39m u(t)\n\u001b[1;32m--> 141\u001b[0m dN \u001b[38;5;241m=\u001b[39m np\u001b[38;5;241m.\u001b[39mmultiply(y, instantaneous_growth)\n\u001b[0;32m    143\u001b[0m \u001b[38;5;28;01mif\u001b[39;00m beta \u001b[38;5;129;01mis\u001b[39;00m \u001b[38;5;28;01mNone\u001b[39;00m:\n\u001b[0;32m    144\u001b[0m     dS \u001b[38;5;241m=\u001b[39m []\n",
                        "\u001b[1;31mAttributeError\u001b[0m: 'int' object has no attribute 'multiply'"
                    ]
                }
            ],
            "source": [
                "# Simulate some microbiota and metabolites\n",
                "set_all_seeds(1234)\n",
                "\n",
                "# SETUP MODEL\n",
                "# establish size of model\n",
                "num_species = 5\n",
                "num_metabolites = 6\n",
                "\n",
                "# construct interaction matrix\n",
                "# TODO do this programmatically\n",
                "M = np.zeros((num_species, num_species))\n",
                "np.fill_diagonal(M, [-0.05, -0.1, -0.15, -0.01, -0.2])\n",
                "# M[0,2] = -0.025\n",
                "M[1, 3] = 0.05\n",
                "# M[4,0] = 0.02\n",
                "\n",
                "# construct growth rates matrix\n",
                "mu = np.random.lognormal(0.01, 0.5, num_species)\n",
                "\n",
                "# construct metabolite production matrix\n",
                "alpha = np.zeros((num_metabolites, num_species))\n",
                "alpha[1, 4] = 1\n",
                "alpha[4, 2] = -0.5\n",
                "\n",
                "# instantiate simulator\n",
                "simulator = sim_gMLV(num_species=num_species,\n",
                "                     num_metabolites=num_metabolites,\n",
                "                     M=M,\n",
                "                     mu=mu,\n",
                "                     beta=alpha)\n",
                "# simulator.print()\n",
                "\n",
                "# PRODUCE SIMULATED RESULTS\n",
                "# initial conditions\n",
                "init_species = 10 * np.ones(num_species)\n",
                "init_metabolites = 10 * np.ones(num_metabolites)\n",
                "\n",
                "times = np.arange(0, 5, 0.1)\n",
                "yobs, sobs, sy0, _, _, _ = simulator.simulate(\n",
                "    times=times, sy0=np.hstack((init_species, init_metabolites)))\n",
                "\n",
                "# add some gaussian noise\n",
                "yobs = yobs + np.random.normal(loc=0, scale=0.1, size=yobs.shape)\n",
                "sobs = sobs + np.random.normal(loc=0, scale=0.1, size=sobs.shape)\n",
                "\n",
                "# plot simulation\n",
                "plot_gMLV(yobs, sobs, times)"
            ]
        },
        {
            "cell_type": "code",
            "execution_count": null,
            "id": "aa4f4ea2",
            "metadata": {},
            "outputs": [
                {
                    "name": "stdout",
                    "output_type": "stream",
                    "text": [
                        "Model: gMLV\n",
                        "No parameters to print.\n"
                    ]
                }
            ],
            "source": [
                "simulator.print_parameters()"
            ]
        },
        {
            "cell_type": "code",
            "execution_count": null,
            "id": "30440b02",
            "metadata": {},
            "outputs": [
                {
                    "data": {
                        "text/plain": [
                            "array([1.27853844, 0.55683415, 2.06752757, 0.86387608, 0.70448068])"
                        ]
                    },
                    "execution_count": 4,
                    "metadata": {},
                    "output_type": "execute_result"
                }
            ],
            "source": [
                "simulator.mu"
            ]
        },
        {
            "cell_type": "code",
            "execution_count": null,
            "id": "3eaf3427",
            "metadata": {},
            "outputs": [],
            "source": [
                "simulator.save_parameters(\"simulator_parameters.json\")"
            ]
        },
        {
            "cell_type": "code",
            "execution_count": null,
            "id": "215be529",
            "metadata": {},
            "outputs": [],
            "source": [
                "simulator.read_parameters(\"simulator_parameters.json\")"
            ]
        },
        {
            "cell_type": "code",
            "execution_count": null,
            "id": "8df7919a",
            "metadata": {},
            "outputs": [
                {
                    "name": "stdout",
                    "output_type": "stream",
                    "text": [
                        "Model: gMLV\n",
                        "num_species: 5\n",
                        "num_metabolites: 6\n",
                        "num_perturbations: 0\n",
                        "mu: [57.    0.56  2.07  0.86  0.7 ]\n",
                        "M: [[-0.05  0.    0.    0.    0.  ]\n",
                        " [ 0.   -0.1   0.    0.05  0.  ]\n",
                        " [ 0.    0.   -0.15  0.    0.  ]\n",
                        " [ 0.    0.    0.   -0.01  0.  ]\n",
                        " [ 0.    0.    0.    0.   -0.2 ]]\n",
                        "beta: [[ 0.   0.   0.   0.   0. ]\n",
                        " [ 0.   0.   0.   0.   1. ]\n",
                        " [ 0.   0.   0.   0.   0. ]\n",
                        " [ 0.   0.   0.   0.   0. ]\n",
                        " [ 0.   0.  -0.5  0.   0. ]\n",
                        " [ 0.   0.   0.   0.   0. ]]\n",
                        "epsilon: []\n"
                    ]
                }
            ],
            "source": [
                "simulator.print_parameters()"
            ]
        },
        {
            "cell_type": "code",
            "execution_count": null,
            "id": "8a3a2ca5",
            "metadata": {},
            "outputs": [
                {
                    "data": {
                        "text/plain": [
                            "array([57.        ,  0.55683415,  2.06752757,  0.86387608,  0.70448068])"
                        ]
                    },
                    "execution_count": 8,
                    "metadata": {},
                    "output_type": "execute_result"
                }
            ],
            "source": [
                "simulator.mu"
            ]
        }
    ],
    "metadata": {
        "kernelspec": {
            "display_name": "Python 3",
            "language": "python",
            "name": "python3"
        },
        "language_info": {
            "codemirror_mode": {
                "name": "ipython",
                "version": 3
            },
            "file_extension": ".py",
            "mimetype": "text/x-python",
            "name": "python",
            "nbconvert_exporter": "python",
            "pygments_lexer": "ipython3",
            "version": "3.11.7"
        }
    },
    "nbformat": 4,
    "nbformat_minor": 5
}
