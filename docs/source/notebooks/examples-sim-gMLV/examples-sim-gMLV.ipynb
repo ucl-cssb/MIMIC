{
 "cells": [
  {
   "cell_type": "code",
   "execution_count": null,
   "id": "f07fa1f2-187e-4ce0-af95-31d6120977fe",
   "metadata": {
    "pycharm": {
     "name": "#%%\n"
    }
   },
   "outputs": [],
   "source": [
    "import pandas as pd\n",
    "import numpy as np\n",
    "import matplotlib.pyplot as plt\n",
    "from scipy.integrate import odeint\n",
    "from numpy import linalg as la\n",
    "\n",
    "import sklearn.linear_model\n",
    "from sklearn.linear_model import LinearRegression\n",
    "from sklearn.linear_model import Ridge\n",
    "from sklearn.linear_model import Lasso\n",
    "from sklearn.linear_model import ElasticNet, ElasticNetCV\n",
    "from sklearn.model_selection import RepeatedKFold\n",
    "from sklearn.model_selection import cross_val_score\n",
    "from sklearn.model_selection import KFold\n",
    "from sklearn.model_selection import GridSearchCV\n",
    "\n",
    "import sys\n",
    "sys.path.append(\"../../\")\n",
    "sys.path.append(\"../../gMLV\")\n",
    "\n",
    "from gMLV import *\n",
    "from utilities import plot_gMLV\n",
    "from utilities import set_all_seeds\n"
   ]
  },
  {
   "cell_type": "markdown",
   "id": "82eb9f01",
   "metadata": {
    "pycharm": {
     "name": "#%% md\n"
    }
   },
   "source": [
    "## Simulate some time course data from the gMLV\n",
    "\n",
    "### Five species, six metabolites, single time course"
   ]
  },
  {
   "cell_type": "markdown",
   "id": "4501a3a3",
   "metadata": {
    "pycharm": {
     "name": "#%% md\n"
    }
   },
   "source": [
    "This model assumes metabolite production is associated with abundance:  dS/dt = alpha X <br>\n",
    "Note that this model needs rethinking as it cannot handle negative productivities <br>\n",
    "In this simple example we don't need to infer the time course. We just linearize and estimate the elements of alpha with Lasso<br>\n",
    "Number of metabolites is 6 here"
   ]
  },
  {
   "cell_type": "code",
   "execution_count": null,
   "id": "9d348926",
   "metadata": {
    "collapsed": false,
    "jupyter": {
     "outputs_hidden": false
    },
    "pycharm": {
     "name": "#%%\n"
    }
   },
   "outputs": [],
   "source": [
    "# Simulate some microbiota and metabolites\n",
    "set_all_seeds(1234)\n",
    "\n",
    "# SETUP MODEL\n",
    "# establish size of model\n",
    "num_species = 5\n",
    "num_metabolites = 6\n",
    "\n",
    "# construct interaction matrix\n",
    "#TODO do this programmatically\n",
    "M = np.zeros((num_species, num_species))\n",
    "np.fill_diagonal(M, [-0.05, -0.1, -0.15, -0.01, -0.2])\n",
    "# M[0,2] = -0.025\n",
    "M[1, 3] = 0.05\n",
    "# M[4,0] = 0.02\n",
    "\n",
    "# construct growth rates matrix\n",
    "mu = np.random.lognormal(0.01, 0.5, num_species)\n",
    "\n",
    "# construct metabolite production matrix\n",
    "alpha = np.zeros((num_metabolites, num_species))\n",
    "alpha[1, 4] = 1\n",
    "alpha[4, 2] = -0.5\n",
    "\n",
    "# instantiate simulator\n",
    "simulator = gMLV_sim(num_species=num_species,\n",
    "                     num_metabolites=num_metabolites,\n",
    "                     M=M,\n",
    "                     mu=mu,\n",
    "                     beta=alpha)\n",
    "simulator.print()\n",
    "\n",
    "## PRODUCE SIMULATED RESULTS\n",
    "# initial conditions\n",
    "init_species = 10 * np.ones(num_species)\n",
    "init_metabolites = 10 * np.ones(num_metabolites)\n",
    "\n",
    "times = np.arange(0, 5, 0.1)\n",
    "yobs, sobs, sy0, _, _, _ = simulator.simulate(times=times, sy0=np.hstack((init_species, init_metabolites)))\n",
    "\n",
    "# add some gaussian noise\n",
    "yobs = yobs + np.random.normal(loc=0, scale=0.1, size=yobs.shape)\n",
    "sobs = sobs + np.random.normal(loc=0, scale=0.1, size=sobs.shape)\n",
    "\n",
    "# plot simulation\n",
    "plot_gMLV(yobs, sobs, times)\n"
   ]
  }
 ],
 "metadata": {
  "kernelspec": {
   "display_name": "Python 3",
   "language": "python",
   "name": "python3"
  },
  "language_info": {
   "codemirror_mode": {
    "name": "ipython",
    "version": 3
   },
   "file_extension": ".py",
   "mimetype": "text/x-python",
   "name": "python",
   "nbconvert_exporter": "python",
   "pygments_lexer": "ipython3",
   "version": "3.8.8"
  }
 },
 "nbformat": 4,
 "nbformat_minor": 5
}
