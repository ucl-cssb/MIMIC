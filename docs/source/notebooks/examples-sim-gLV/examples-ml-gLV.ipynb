{
 "cells": [
  {
   "cell_type": "code",
   "execution_count": null,
   "id": "f07fa1f2-187e-4ce0-af95-31d6120977fe",
   "metadata": {
    "pycharm": {
     "name": "#%%\n"
    }
   },
   "outputs": [],
   "source": [
    "import random\n",
    "import pandas as pd\n",
    "\n",
    "import numpy as np\n",
    "import matplotlib.pyplot as plt\n",
    "import sklearn.linear_model\n",
    "from scipy.integrate import odeint\n",
    "\n",
    "from numpy import linalg as la\n",
    "\n",
    "from sklearn.linear_model import LinearRegression\n",
    "from sklearn.linear_model import Ridge\n",
    "from sklearn.linear_model import Lasso\n",
    "from sklearn.linear_model import ElasticNet, ElasticNetCV\n",
    "from sklearn.model_selection import RepeatedKFold\n",
    "from sklearn.model_selection import cross_val_score\n",
    "from sklearn.model_selection import KFold\n",
    "from sklearn.model_selection import GridSearchCV\n",
    "\n",
    "import sys\n",
    "sys.path.append(\"../../\")\n",
    "sys.path.append(\"../../gMLV\")\n",
    "\n",
    "from gMLV import *\n",
    "from utilities import plot_gLV\n",
    "from utilities import plot_fit_gLV\n",
    "from utilities import set_all_seeds\n",
    "from utilities import compare_params\n"
   ]
  },
  {
   "cell_type": "markdown",
   "id": "82eb9f01",
   "metadata": {
    "pycharm": {
     "name": "#%% md\n"
    }
   },
   "source": [
    "## Simulate some time course data and perform ridge regression as in Stein et al. 2013\n",
    "I have coded up the Stein model and ridge regression without the perturbation term (Ridge1) and with a single perturbation (Ridge 2). <br>\n",
    "Ridge regression is designed to cause shrinkage to prevent overfitting. It isn't supposed to be used for variable\n",
    "selection. We should use Lasso for this, however I think we need to constrain parameters."
   ]
  },
  {
   "cell_type": "markdown",
   "id": "fbc11bbc",
   "metadata": {
    "pycharm": {
     "name": "#%% md\n"
    }
   },
   "source": [
    "### Five species, single time course"
   ]
  },
  {
   "cell_type": "code",
   "execution_count": null,
   "id": "3e0845a5",
   "metadata": {
    "collapsed": false,
    "jupyter": {
     "outputs_hidden": false
    },
    "pycharm": {
     "name": "#%%\n"
    }
   },
   "outputs": [],
   "source": [
    "# In this example n >> p and it it is basically same as standard regression\n",
    "# We have to be careful as most of these gLV models are very weakly identifiable\n",
    "\n",
    "set_all_seeds(1234)\n",
    "\n",
    "## SETUP MODEL\n",
    "# establish size of model\n",
    "num_species = 5\n",
    "num_metabolites = 0\n",
    "\n",
    "# construct interaction matrix\n",
    "#TODO do this programmatically\n",
    "M = np.zeros((num_species, num_species))\n",
    "np.fill_diagonal(M, [-0.05, -0.1, -0.15, -0.01, -0.2])\n",
    "M[0, 2] = -0.025\n",
    "M[1, 3] = 0.05\n",
    "M[4, 0] = 0.02\n",
    "\n",
    "# construct growth rates matrix\n",
    "mu = np.random.lognormal(0.01, 0.5, num_species)\n",
    "\n",
    "# instantiate simulator\n",
    "simulator = gMLV_sim(num_species=num_species,\n",
    "                     num_metabolites=num_metabolites,\n",
    "                     M=M,\n",
    "                     mu=mu)\n",
    "simulator.print()\n",
    "\n",
    "## PRODUCE SIMULATED RESULTS\n",
    "# initial conditions\n",
    "init_species = 10 * np.ones(num_species)\n",
    "init_metabolites = 10 * np.ones(num_metabolites)\n",
    "\n",
    "times = np.arange(0, 5, 0.1)\n",
    "yobs, sobs, sy0, mu, M, _ = simulator.simulate(times=times, sy0=np.hstack((init_species, init_metabolites)))\n",
    "\n",
    "# add some gaussian noise\n",
    "yobs = yobs + np.random.normal(loc=0, scale=0.1, size=yobs.shape)\n",
    "sobs = sobs + np.random.normal(loc=0, scale=0.1, size=sobs.shape)\n",
    "\n",
    "# plot simulation\n",
    "# plot_gLV(yobs, sobs, times)\n",
    "\n",
    "## PERFORM REGRESSION\n",
    "# linearise\n",
    "X, F = linearize_time_course_16S(yobs, times)\n",
    "# print(f\"n: {num_species * F.shape[0]}, p: {num_species + num_species ** 2}\")\n",
    "\n",
    "# get the best lambda/alpha values on a grid via cross validation\n",
    "a0, a1 = fit_alpha_Ridge1(X, F, num_species=num_species, n_a0=20, n_a1=20)\n",
    "\n",
    "# do final fit\n",
    "mu_h, M_h = do_final_fit_Ridge1(X, F, num_species, a0, a1)\n",
    "predictor = gMLV_sim(num_species=num_species,\n",
    "                     num_metabolites=num_metabolites,\n",
    "                     M=M_h,\n",
    "                     mu=mu_h)\n",
    "yobs_h, sobs_h, _, _, _, _ = predictor.simulate(times=times, sy0=np.hstack((init_species, init_metabolites)))\n",
    "\n",
    "## PLOT RESULTS\n",
    "# plot comparison of simulated and predicted timeseries\n",
    "plot_fit_gLV(yobs, yobs_h, sobs, sobs_h, times)\n",
    "\n",
    "# this does the stem plots with orange crosses the actual parameters\n",
    "compare_params(mu=(mu,mu_h), M=(M, M_h))\n"
   ]
  },
  {
   "cell_type": "markdown",
   "id": "6629acb1",
   "metadata": {
    "pycharm": {
     "name": "#%% md\n"
    }
   },
   "source": [
    "### Five species, lower number of time points, multiple time course"
   ]
  },
  {
   "cell_type": "code",
   "execution_count": null,
   "id": "53a721ad",
   "metadata": {
    "collapsed": false,
    "jupyter": {
     "outputs_hidden": false
    },
    "pycharm": {
     "name": "#%%\n"
    }
   },
   "outputs": [],
   "source": [
    "set_all_seeds(1234)\n",
    "\n",
    "## SETUP MODEL\n",
    "# establish size of model\n",
    "num_species = 5\n",
    "num_metabolites = 0\n",
    "\n",
    "# construct interaction matrix\n",
    "#TODO do this programmatically\n",
    "M = np.zeros((num_species, num_species))\n",
    "np.fill_diagonal(M, [-0.05, -0.1, -0.15, -0.01, -0.2])\n",
    "M[0, 2] = -0.025\n",
    "M[1, 3] = 0.05\n",
    "M[4, 0] = 0.02\n",
    "\n",
    "# construct growth rates matrix\n",
    "mu = np.random.lognormal(0.01, 0.5, num_species)\n",
    "\n",
    "# instantiate simulator\n",
    "simulator = gMLV_sim(num_species=num_species,\n",
    "                     num_metabolites=num_metabolites,\n",
    "                     M=M,\n",
    "                     mu=mu)\n",
    "simulator.print()\n",
    "\n",
    "## PRODUCE SIMULATED RESULTS\n",
    "# data structures for results\n",
    "ryobs = []\n",
    "rsobs = []\n",
    "ry0 = []\n",
    "rs0 = []\n",
    "X = np.array([], dtype=np.double).reshape(0, num_species+1)\n",
    "F = np.array([], dtype=np.double).reshape(0, num_species)\n",
    "\n",
    "num_timecourses = 3\n",
    "times = np.arange(0,5,1)\n",
    "for timecourse_idx in range(num_timecourses):\n",
    "    # initial conditions\n",
    "    init_species = np.random.uniform(low=10, high=50, size=num_species)\n",
    "    init_metabolites = np.random.uniform(low=10, high=50, size=num_metabolites)\n",
    "\n",
    "    yobs, sobs, sy0, mu, M, _ = simulator.simulate(times=times, sy0=np.hstack((init_species, init_metabolites)))\n",
    "\n",
    "    # add some gaussian noise\n",
    "    yobs = yobs + np.random.normal(loc=0, scale=0.1, size=yobs.shape)\n",
    "    sobs = sobs + np.random.normal(loc=0, scale=0.1, size=sobs.shape)\n",
    "\n",
    "    # append results\n",
    "    ryobs.append(yobs)\n",
    "    rsobs.append(sobs)\n",
    "    ry0.append(init_species)\n",
    "    rs0.append(init_metabolites)\n",
    "    Xs, Fs = linearize_time_course_16S(yobs,times)\n",
    "    X = np.vstack([X, Xs])\n",
    "    F = np.vstack([F, Fs])\n",
    "\n",
    "print(f\"X: {X.shape}\")\n",
    "print(f\"F: {F.shape}\")\n",
    "print(f\"n: {num_species*F.shape[0]}, p: {num_species + num_species**2}\")\n",
    "\n",
    "## PERFORM REGRESSION\n",
    "# get the best lambda/alpha values on a grid via cross validation\n",
    "a0, a1 = fit_alpha_Ridge1(X, F, num_species=num_species, n_a0=20, n_a1=20)\n",
    "\n",
    "# do final fit\n",
    "mu_h, M_h = do_final_fit_Ridge1(X, F, num_species, a0=a0, a1=a1)\n",
    "predictor = gMLV_sim(num_species=num_species,\n",
    "                     num_metabolites=num_metabolites,\n",
    "                     M=M_h,\n",
    "                     mu=mu_h)\n",
    "\n",
    "## PLOT RESULTS\n",
    "# plot comparison of simulated and predicted timeseries\n",
    "for timecourse_idx in range(num_timecourses):\n",
    "    yobs_h, sobs_h, _, _, _, _ = predictor.simulate(times=times, sy0=np.hstack((ry0[timecourse_idx], rs0[timecourse_idx])))\n",
    "    plot_fit_gLV(ryobs[timecourse_idx], yobs_h, rsobs[timecourse_idx], sobs_h, times)\n",
    "\n",
    "# this does the stem plots with orange crosses the actual parameters\n",
    "compare_params(mu=(mu,mu_h), M=(M, M_h))\n",
    "\n",
    "## ANALYSE RESULTS\n",
    "# do some bootstrapping to help with interpretation of parameters\n",
    "# starred parameters are considered different to zero\n",
    "do_bootstrapping(X, F, num_species, a0, a1, len(times), nboots=100)"
   ]
  },
  {
   "cell_type": "markdown",
   "id": "99ee1482",
   "metadata": {
    "pycharm": {
     "name": "#%% md\n"
    }
   },
   "source": [
    "### Five species, single time course including a perturbation"
   ]
  },
  {
   "cell_type": "code",
   "execution_count": null,
   "id": "cbab2390",
   "metadata": {
    "collapsed": false,
    "jupyter": {
     "outputs_hidden": false
    },
    "pycharm": {
     "name": "#%%\n"
    }
   },
   "outputs": [],
   "source": [
    "set_all_seeds(1234)\n",
    "\n",
    "## SETUP MODEL\n",
    "# establish size of model\n",
    "num_species = 5\n",
    "num_metabolites = 0\n",
    "\n",
    "# construct interaction matrix\n",
    "#TODO do this programmatically\n",
    "M = np.zeros((num_species, num_species))\n",
    "np.fill_diagonal(M, [-0.05, -0.1, -0.15, -0.01, -0.2])\n",
    "M[0, 2] = -0.025\n",
    "M[1, 3] = 0.05\n",
    "M[4, 0] = 0.02\n",
    "\n",
    "# construct growth rates matrix\n",
    "mu = np.random.lognormal(0.01, 0.5, num_species)\n",
    "\n",
    "# construct perturbation matrix\n",
    "epsilon = np.array([0, -1, 0 , -1, 0])\n",
    "\n",
    "# instantiate simulator\n",
    "simulator = gMLV_sim(num_species=num_species,\n",
    "                     num_metabolites=num_metabolites,\n",
    "                     M=M,\n",
    "                     mu=mu,\n",
    "                     epsilon=epsilon)\n",
    "simulator.print()\n",
    "\n",
    "## PRODUCE SIMULATED RESULTS\n",
    "# initial conditions\n",
    "init_species = 10 * np.ones(num_species)\n",
    "init_metabolites = 10 * np.ones(num_metabolites)\n",
    "\n",
    "# perturbation\n",
    "tp = 2\n",
    "\n",
    "times = np.arange(0, 5, 0.1)\n",
    "yobs, sobs, sy0, mu, M, _ = simulator.simulate(times=times, \n",
    "                                               sy0=np.hstack((init_species, init_metabolites)),\n",
    "                                               tp=tp)\n",
    "\n",
    "\n",
    "# add some gaussian noise\n",
    "yobs = yobs + np.random.normal(loc=0, scale=0.1, size=yobs.shape)\n",
    "sobs = sobs + np.random.normal(loc=0, scale=0.1, size=sobs.shape)\n",
    "\n",
    "# plot simulation\n",
    "# plot_gMLV(yobs, sobs, times)\n",
    "\n",
    "## PERFORM REGRESSION\n",
    "# time dependent perturbation\n",
    "u = (times >= 2) & (times < 3) \n",
    "u = u.astype(int)\n",
    "print('perturbation:\\n', u)\n",
    "\n",
    "# linearise\n",
    "X, F = linearize_time_course_16S_u(yobs, times, u)\n",
    "print(f\"n: {num_species * F.shape[0]}, p: {num_species + num_species ** 2}\")\n",
    "\n",
    "# get the best lambda/alpha values on a grid via cross validation\n",
    "a0, a1, a2 = fit_alpha_Ridge2(X, F, num_species=num_species, num_pert=1, n_a0=10, n_a1=10, n_a2=10)\n",
    "\n",
    "# do final fit\n",
    "mu_h, M_h, e_h = do_final_fit_Ridge2(X, F, num_species=num_species, num_pert=1, a0=a0, a1=a1, a2=a2)\n",
    "\n",
    "predictor = gMLV_sim(num_species=num_species,\n",
    "                     num_metabolites=num_metabolites,\n",
    "                     M=M_h,\n",
    "                     mu=mu_h,\n",
    "                     epsilon=e_h)\n",
    "yobs_h, sobs_h, _, _, _, _ = predictor.simulate(times=times,\n",
    "                                                sy0=np.hstack((init_species, init_metabolites)),\n",
    "                                                tp=tp)\n",
    "\n",
    "## PLOT RESULTS\n",
    "# plot comparison of simulated and predicted timeseries\n",
    "plot_fit_gLV(yobs, yobs_h, sobs, sobs_h, times)\n",
    "\n",
    "# this does the stem plots with orange crosses the actual parameters\n",
    "compare_params(mu=(mu,mu_h), M=(M, M_h), e=(np.array([0, -1, 0 , -1, 0]), e_h))\n"
   ]
  },
  {
   "cell_type": "markdown",
   "id": "faa84f27",
   "metadata": {
    "pycharm": {
     "name": "#%% md\n"
    }
   },
   "source": [
    "### Fit same data with the multi-penalty lasso"
   ]
  },
  {
   "cell_type": "code",
   "execution_count": null,
   "id": "58bae043",
   "metadata": {
    "collapsed": false,
    "jupyter": {
     "outputs_hidden": false
    },
    "pycharm": {
     "name": "#%%\n"
    }
   },
   "outputs": [],
   "source": [
    "# F = dlnX/dt\n",
    "DlnX = np.diff(np.log(yobs), axis=0)\n",
    "Dt = np.tile(np.diff(times), (num_species, 1))\n",
    "F = np.divide(DlnX, np.transpose(Dt))\n",
    "\n",
    "# X matrix: stacked observed counts\n",
    "mX = np.vstack([np.transpose(yobs), np.ones(len(times))])\n",
    "tX = np.transpose(mX[:, :-1])\n",
    "\n",
    "alphas = fit_alpha_MPLasso(tX, F, 10)\n",
    "\n",
    "alpha = np.append(np.ones(num_species)*alphas[0], alphas[1])\n",
    "model = MultiPenaltyLasso(alpha=alpha)\n",
    "model.fit(tX, F)\n",
    "\n",
    "mu_h = [model.coef_[i][-1] for i in range(0, num_species)]\n",
    "M_h = [model.coef_[i][0:num_species].tolist() for i in range(0, num_species)]\n",
    "\n",
    "# this does the stem plots with orange crosses the actual parameters\n",
    "compare_params(mu=(mu, mu_h), M=(M, M_h))\n",
    "\n",
    "# get prediction\n",
    "predictor = gMLV_sim(num_species=num_species,\n",
    "                     num_metabolites=num_metabolites,\n",
    "                     M=M_h,\n",
    "                     mu=mu_h,\n",
    "                     beta=rho)\n",
    "yobs_h, sobs_h, _, _, _, _ = predictor.simulate(times=times, sy0=np.hstack((init_species, init_metabolites)))\n",
    "\n",
    "# plot comparison of simulated and predicted timeseries\n",
    "plot_fit_gMLV(yobs, yobs_h, sobs, sobs_h, times)"
   ]
  }
 ],
 "metadata": {
  "kernelspec": {
   "display_name": "Python 3",
   "language": "python",
   "name": "python3"
  },
  "language_info": {
   "codemirror_mode": {
    "name": "ipython",
    "version": 3
   },
   "file_extension": ".py",
   "mimetype": "text/x-python",
   "name": "python",
   "nbconvert_exporter": "python",
   "pygments_lexer": "ipython3",
   "version": "3.11.7"
  }
 },
 "nbformat": 4,
 "nbformat_minor": 5
}
