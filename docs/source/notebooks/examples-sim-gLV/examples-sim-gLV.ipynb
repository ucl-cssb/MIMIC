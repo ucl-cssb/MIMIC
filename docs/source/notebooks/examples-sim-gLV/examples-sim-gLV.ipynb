{
 "cells": [
  {
   "cell_type": "code",
   "execution_count": 2,
   "id": "f07fa1f2-187e-4ce0-af95-31d6120977fe",
   "metadata": {
    "pycharm": {
     "name": "#%%\n"
    }
   },
   "outputs": [],
   "source": [
    "from mimic.utilities.utilities import set_all_seeds\n",
    "from mimic.utilities.utilities import plot_gLV\n",
    "from mimic.model_infer import *\n",
    "from mimic.model_simulate import *\n",
    "import pandas as pd\n",
    "\n",
    "\n",
    "import numpy as np\n",
    "\n",
    "\n",
    "import matplotlib.pyplot as plt\n",
    "\n",
    "\n",
    "from scipy.integrate import odeint\n",
    "\n",
    "\n",
    "from numpy import linalg as la\n",
    "\n",
    "import sklearn.linear_model\n",
    "\n",
    "\n",
    "from sklearn.linear_model import LinearRegression\n",
    "\n",
    "\n",
    "from sklearn.linear_model import Ridge\n",
    "\n",
    "\n",
    "from sklearn.linear_model import Lasso\n",
    "\n",
    "\n",
    "from sklearn.linear_model import ElasticNet, ElasticNetCV\n",
    "\n",
    "\n",
    "from sklearn.model_selection import RepeatedKFold\n",
    "\n",
    "\n",
    "from sklearn.model_selection import cross_val_score\n",
    "\n",
    "\n",
    "from sklearn.model_selection import KFold\n",
    "\n",
    "\n",
    "from sklearn.model_selection import GridSearchCV\n",
    "\n",
    "\n",
    "import sys\n",
    "\n",
    "\n",
    "sys.path.append(\"../../\")"
   ]
  },
  {
   "cell_type": "markdown",
   "id": "82eb9f01",
   "metadata": {
    "pycharm": {
     "name": "#%% md\n"
    }
   },
   "source": [
    "## Simulate some time course data from the gLV\n"
   ]
  },
  {
   "cell_type": "markdown",
   "id": "fbc11bbc",
   "metadata": {
    "pycharm": {
     "name": "#%% md\n"
    }
   },
   "source": [
    "### Five species, single time course"
   ]
  },
  {
   "cell_type": "code",
   "execution_count": 3,
   "id": "3e0845a5",
   "metadata": {
    "collapsed": false,
    "jupyter": {
     "outputs_hidden": false
    },
    "pycharm": {
     "name": "#%%\n"
    }
   },
   "outputs": [
    {
     "name": "stdout",
     "output_type": "stream",
     "text": [
      "number of species: 5\n",
      "specific growth rates: [1.27853844 0.55683415 2.06752757 0.86387608 0.70448068]\n",
      "interaction matrix: \n",
      "[[-0.05   0.    -0.025  0.     0.   ]\n",
      " [ 0.    -0.1    0.     0.05   0.   ]\n",
      " [ 0.     0.    -0.15   0.     0.   ]\n",
      " [ 0.     0.     0.    -0.01   0.   ]\n",
      " [ 0.02   0.     0.     0.    -0.2  ]]\n",
      "metabolite production: \n",
      "None\n",
      "perturbation matrix: \n",
      "[]\n"
     ]
    },
    {
     "data": {
      "image/png": "[encoded data removed]",
      "text/plain": [
       "<Figure size 432x288 with 1 Axes>"
      ]
     },
     "metadata": {
      "needs_background": "light"
     },
     "output_type": "display_data"
    }
   ],
   "source": [
    "# In this example n >> p and it it is basically same as standard regression\n",
    "# We have to be careful as most of these gLV models are very weakly identifiable\n",
    "\n",
    "set_all_seeds(1234)\n",
    "\n",
    "# SETUP MODEL\n",
    "# establish size of model\n",
    "num_species = 5\n",
    "num_metabolites = 0\n",
    "\n",
    "# construct interaction matrix\n",
    "# TODO do this programmatically\n",
    "M = np.zeros((num_species, num_species))\n",
    "np.fill_diagonal(M, [-0.05, -0.1, -0.15, -0.01, -0.2])\n",
    "M[0, 2] = -0.025\n",
    "M[1, 3] = 0.05\n",
    "M[4, 0] = 0.02\n",
    "\n",
    "# construct growth rates matrix\n",
    "mu = np.random.lognormal(0.01, 0.5, num_species)\n",
    "\n",
    "# instantiate simulator\n",
    "simulator = gMLV_sim(num_species=num_species,\n",
    "                     num_metabolites=num_metabolites,\n",
    "                     M=M,\n",
    "                     mu=mu)\n",
    "simulator.print()\n",
    "\n",
    "# PRODUCE SIMULATED RESULTS\n",
    "# initial conditions\n",
    "init_species = 10 * np.ones(num_species)\n",
    "init_metabolites = 10 * np.ones(num_metabolites)\n",
    "\n",
    "times = np.arange(0, 5, 0.1)\n",
    "yobs, sobs, sy0, mu, M, _ = simulator.simulate(\n",
    "    times=times, sy0=np.hstack((init_species, init_metabolites)))\n",
    "\n",
    "# add some gaussian noise\n",
    "yobs = yobs + np.random.normal(loc=0, scale=0.1, size=yobs.shape)\n",
    "sobs = sobs + np.random.normal(loc=0, scale=0.1, size=sobs.shape)\n",
    "\n",
    "# plot simulation\n",
    "plot_gLV(yobs, sobs, times)"
   ]
  },
  {
   "cell_type": "markdown",
   "id": "99ee1482",
   "metadata": {
    "pycharm": {
     "name": "#%% md\n"
    }
   },
   "source": [
    "### Five species, single time course, with a perturbation"
   ]
  },
  {
   "cell_type": "code",
   "execution_count": 5,
   "id": "cbab2390",
   "metadata": {
    "collapsed": false,
    "jupyter": {
     "outputs_hidden": false
    },
    "pycharm": {
     "name": "#%%\n"
    }
   },
   "outputs": [
    {
     "name": "stdout",
     "output_type": "stream",
     "text": [
      "number of species: 5\n",
      "specific growth rates: [1.27853844 0.55683415 2.06752757 0.86387608 0.70448068]\n",
      "interaction matrix: \n",
      "[[-0.05   0.    -0.025  0.     0.   ]\n",
      " [ 0.    -0.1    0.     0.05   0.   ]\n",
      " [ 0.     0.    -0.15   0.     0.   ]\n",
      " [ 0.     0.     0.    -0.01   0.   ]\n",
      " [ 0.02   0.     0.     0.    -0.2  ]]\n",
      "metabolite production: \n",
      "None\n",
      "perturbation matrix: \n",
      "[[ 0.]\n",
      " [-1.]\n",
      " [ 0.]\n",
      " [-1.]\n",
      " [ 0.]]\n"
     ]
    },
    {
     "data": {
      "image/png": "[encoded data removed]",
      "text/plain": [
       "<Figure size 432x288 with 1 Axes>"
      ]
     },
     "metadata": {
      "needs_background": "light"
     },
     "output_type": "display_data"
    }
   ],
   "source": [
    "set_all_seeds(1234)\n",
    "\n",
    "# SETUP MODEL\n",
    "# establish size of model\n",
    "num_species = 5\n",
    "num_metabolites = 0\n",
    "\n",
    "# construct interaction matrix\n",
    "# TODO do this programmatically\n",
    "M = np.zeros((num_species, num_species))\n",
    "np.fill_diagonal(M, [-0.05, -0.1, -0.15, -0.01, -0.2])\n",
    "M[0, 2] = -0.025\n",
    "M[1, 3] = 0.05\n",
    "M[4, 0] = 0.02\n",
    "\n",
    "# construct growth rates matrix\n",
    "mu = np.random.lognormal(0.01, 0.5, num_species)\n",
    "\n",
    "# construct perturbation matrix\n",
    "npert = 1\n",
    "epsilon = np.zeros([num_species, npert])\n",
    "epsilon[:, 0] = [0, -1, 0, -1, 0]\n",
    "\n",
    "# instantiate simulator\n",
    "simulator = gMLV_sim(num_species=num_species,\n",
    "                     num_metabolites=num_metabolites,\n",
    "                     num_perturbations=npert,\n",
    "                     M=M,\n",
    "                     mu=mu,\n",
    "                     epsilon=epsilon)\n",
    "simulator.print()\n",
    "\n",
    "# PRODUCE SIMULATED RESULTS\n",
    "# initial conditions\n",
    "init_species = 10 * np.ones(num_species)\n",
    "init_metabolites = 10 * np.ones(num_metabolites)\n",
    "\n",
    "# perturbation information encoded in a function\n",
    "\n",
    "\n",
    "def pert_fn(t):\n",
    "    if 2.0 <= t < 2.2:\n",
    "        return np.array([1])\n",
    "    else:\n",
    "        return np.array([0])\n",
    "\n",
    "\n",
    "times = np.arange(0, 5, 0.1)\n",
    "yobs, sobs, sy0, mu, M, _ = simulator.simulate(times=times,\n",
    "                                               sy0=np.hstack(\n",
    "                                                   (init_species, init_metabolites)),\n",
    "                                               u=pert_fn)\n",
    "\n",
    "\n",
    "# add some gaussian noise\n",
    "yobs = yobs + np.random.normal(loc=0, scale=0.1, size=yobs.shape)\n",
    "sobs = sobs + np.random.normal(loc=0, scale=0.1, size=sobs.shape)\n",
    "\n",
    "# plot simulation\n",
    "plot_gLV(yobs, sobs, times)"
   ]
  }
 ],
 "metadata": {
  "kernelspec": {
   "display_name": "Python 3",
   "language": "python",
   "name": "python3"
  },
  "language_info": {
   "codemirror_mode": {
    "name": "ipython",
    "version": 3
   },
   "file_extension": ".py",
   "mimetype": "text/x-python",
   "name": "python",
   "nbconvert_exporter": "python",
   "pygments_lexer": "ipython3",
   "version": "3.11.7"
  }
 },
 "nbformat": 4,
 "nbformat_minor": 5
}
