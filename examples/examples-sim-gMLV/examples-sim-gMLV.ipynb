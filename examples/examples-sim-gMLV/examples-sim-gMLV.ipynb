{
    "cells": [
        {
            "cell_type": "code",
            "execution_count": 1,
            "id": "f07fa1f2-187e-4ce0-af95-31d6120977fe",
            "metadata": {
                "pycharm": {
                    "name": "#%%\n"
                }
            },
            "outputs": [
                {
                    "name": "stderr",
                    "output_type": "stream",
                    "text": [
                        "WARNING (pytensor.tensor.blas): Using NumPy C-API based implementation for BLAS functions.\n"
                    ]
                }
            ],
            "source": [
                "from mimic.utilities.utilities import set_all_seeds\n",
                "from mimic.utilities.utilities import plot_gMLV\n",
                "from mimic.model_infer import *\n",
                "from mimic.model_simulate import *\n",
                "import pandas as pd\n",
                "\n",
                "\n",
                "import numpy as np\n",
                "\n",
                "\n",
                "import matplotlib.pyplot as plt\n",
                "\n",
                "\n",
                "from scipy.integrate import odeint\n",
                "\n",
                "\n",
                "from numpy import linalg as la\n",
                "\n",
                "import sklearn.linear_model\n",
                "\n",
                "\n",
                "from sklearn.linear_model import LinearRegression\n",
                "\n",
                "\n",
                "from sklearn.linear_model import Ridge\n",
                "\n",
                "\n",
                "from sklearn.linear_model import Lasso\n",
                "\n",
                "\n",
                "from sklearn.linear_model import ElasticNet, ElasticNetCV\n",
                "\n",
                "\n",
                "from sklearn.model_selection import RepeatedKFold\n",
                "\n",
                "\n",
                "from sklearn.model_selection import cross_val_score\n",
                "\n",
                "\n",
                "from sklearn.model_selection import KFold\n",
                "\n",
                "\n",
                "from sklearn.model_selection import GridSearchCV\n",
                "\n",
                "\n",
                "import sys\n",
                "\n",
                "\n",
                "sys.path.append(\"../../\")"
            ]
        },
        {
            "cell_type": "markdown",
            "id": "82eb9f01",
            "metadata": {
                "pycharm": {
                    "name": "#%% md\n"
                }
            },
            "source": [
                "## Simulate some time course data from the gMLV\n",
                "\n",
                "### Five species, six metabolites, single time course"
            ]
        },
        {
            "cell_type": "markdown",
            "id": "4501a3a3",
            "metadata": {
                "pycharm": {
                    "name": "#%% md\n"
                }
            },
            "source": [
                "This model assumes metabolite production is associated with abundance:  dS/dt = alpha X <br>\n",
                "Note that this model needs rethinking as it cannot handle negative productivities <br>\n",
                "In this simple example we don't need to infer the time course. We just linearize and estimate the elements of alpha with Lasso<br>\n",
                "Number of metabolites is 6 here"
            ]
        },
        {
            "cell_type": "code",
            "execution_count": 2,
            "id": "9d348926",
            "metadata": {
                "collapsed": false,
                "jupyter": {
                    "outputs_hidden": false
                },
                "pycharm": {
                    "name": "#%%\n"
                }
            },
            "outputs": [
                {
                    "ename": "TypeError",
                    "evalue": "Can't instantiate abstract class sim_gMLV with abstract method set_parameters",
                    "output_type": "error",
                    "traceback": [
                        "\u001b[1;31m---------------------------------------------------------------------------\u001b[0m",
                        "\u001b[1;31mTypeError\u001b[0m                                 Traceback (most recent call last)",
                        "Cell \u001b[1;32mIn[2], line 26\u001b[0m\n\u001b[0;32m     23\u001b[0m alpha[\u001b[38;5;241m4\u001b[39m, \u001b[38;5;241m2\u001b[39m] \u001b[38;5;241m=\u001b[39m \u001b[38;5;241m-\u001b[39m\u001b[38;5;241m0.5\u001b[39m\n\u001b[0;32m     25\u001b[0m \u001b[38;5;66;03m# instantiate simulator\u001b[39;00m\n\u001b[1;32m---> 26\u001b[0m simulator \u001b[38;5;241m=\u001b[39m sim_gMLV(num_species\u001b[38;5;241m=\u001b[39mnum_species,\n\u001b[0;32m     27\u001b[0m                      num_metabolites\u001b[38;5;241m=\u001b[39mnum_metabolites,\n\u001b[0;32m     28\u001b[0m                      M\u001b[38;5;241m=\u001b[39mM,\n\u001b[0;32m     29\u001b[0m                      mu\u001b[38;5;241m=\u001b[39mmu,\n\u001b[0;32m     30\u001b[0m                      beta\u001b[38;5;241m=\u001b[39malpha)\n\u001b[0;32m     31\u001b[0m simulator\u001b[38;5;241m.\u001b[39mprint()\n\u001b[0;32m     33\u001b[0m \u001b[38;5;66;03m# PRODUCE SIMULATED RESULTS\u001b[39;00m\n\u001b[0;32m     34\u001b[0m \u001b[38;5;66;03m# initial conditions\u001b[39;00m\n",
                        "\u001b[1;31mTypeError\u001b[0m: Can't instantiate abstract class sim_gMLV with abstract method set_parameters"
                    ]
                }
            ],
            "source": [
                "# Simulate some microbiota and metabolites\n",
                "set_all_seeds(1234)\n",
                "\n",
                "# SETUP MODEL\n",
                "# establish size of model\n",
                "num_species = 5\n",
                "num_metabolites = 6\n",
                "\n",
                "# construct interaction matrix\n",
                "# TODO do this programmatically\n",
                "M = np.zeros((num_species, num_species))\n",
                "np.fill_diagonal(M, [-0.05, -0.1, -0.15, -0.01, -0.2])\n",
                "# M[0,2] = -0.025\n",
                "M[1, 3] = 0.05\n",
                "# M[4,0] = 0.02\n",
                "\n",
                "# construct growth rates matrix\n",
                "mu = np.random.lognormal(0.01, 0.5, num_species)\n",
                "\n",
                "# construct metabolite production matrix\n",
                "alpha = np.zeros((num_metabolites, num_species))\n",
                "alpha[1, 4] = 1\n",
                "alpha[4, 2] = -0.5\n",
                "\n",
                "# instantiate simulator\n",
                "simulator = sim_gMLV(num_species=num_species,\n",
                "                     num_metabolites=num_metabolites,\n",
                "                     M=M,\n",
                "                     mu=mu,\n",
                "                     beta=alpha)\n",
                "simulator.print()\n",
                "\n",
                "# PRODUCE SIMULATED RESULTS\n",
                "# initial conditions\n",
                "init_species = 10 * np.ones(num_species)\n",
                "init_metabolites = 10 * np.ones(num_metabolites)\n",
                "\n",
                "times = np.arange(0, 5, 0.1)\n",
                "yobs, sobs, sy0, _, _, _ = simulator.simulate(\n",
                "    times=times, sy0=np.hstack((init_species, init_metabolites)))\n",
                "\n",
                "# add some gaussian noise\n",
                "yobs = yobs + np.random.normal(loc=0, scale=0.1, size=yobs.shape)\n",
                "sobs = sobs + np.random.normal(loc=0, scale=0.1, size=sobs.shape)\n",
                "\n",
                "# plot simulation\n",
                "plot_gMLV(yobs, sobs, times)"
            ]
        }
    ],
    "metadata": {
        "kernelspec": {
            "display_name": "Python 3",
            "language": "python",
            "name": "python3"
        },
        "language_info": {
            "codemirror_mode": {
                "name": "ipython",
                "version": 3
            },
            "file_extension": ".py",
            "mimetype": "text/x-python",
            "name": "python",
            "nbconvert_exporter": "python",
            "pygments_lexer": "ipython3",
            "version": "3.11.7"
        }
    },
    "nbformat": 4,
    "nbformat_minor": 5
}
