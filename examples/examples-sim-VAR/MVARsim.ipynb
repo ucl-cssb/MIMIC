{
 "cells": [
  {
   "cell_type": "markdown",
   "metadata": {},
   "source": [
    "# Multivariate VAR Simulation\n",
    "\n",
    "## Introduction to Multivariate VAR\n",
    "\n",
    "While the VAR(1) model is a powerful tool for analyzing the dynamics between multiple time series variables with a single time lag, many real-world applications demand a more nuanced approach. Multivariate VAR models extend this concept by allowing for multiple time lags, capturing deeper temporal dependencies across the variables in the system. This facilitates a more detailed analysis of how past values of all variables in the system influence current values over multiple time periods.\n",
    "\n",
    "### Multivariate VAR Process\n",
    "\n",
    "The general formula for a multivariate VAR(p) process, where $ p $ represents the number of time lags included in the model, is:\n",
    "\n",
    "$$ X_t = A_1 \\cdot X_{t-1} + A_2 \\cdot X_{t-2} + \\dots + A_p \\cdot X_{t-p} + \\epsilon_t $$\n",
    "\n",
    "where:\n",
    "- $ X_t $ is the vector of variables at time $ t $,\n",
    "- $ A_1, A_2, \\dots, A_p $ are the matrices of coefficients for each lag,\n",
    "- $ \\epsilon_t $ is the vector of error terms, assumed to be normally distributed with mean 0 and a specific standard deviation.\n",
    "\n",
    "### Handling in `VARsim.py`\n",
    "\n",
    "The `VARsim.py` script implements multivariate VAR simulation through its advanced methods, accommodating multiple lags and thus enabling the simulation of complex dynamic systems. The script allows for specifying a series of coefficient matrices for each lag, generates simulated time series data based on these parameters, and includes specialized plotting functions to visualize the dynamics between variables across time lags.\n",
    "\n",
    "### Notebook Structure\n",
    "\n",
    "This notebook will guide you through simulating multivariate VAR models using the `VARsim.py` script. We will demonstrate how to specify model parameters, generate simulated data, and visualize the results to analyze the interactions and dynamics among multiple time series variables.\n",
    "\n",
    "### Objective\n",
    "\n",
    "Our objective is to simulate and analyze the dynamics of multivariate VAR models. By leveraging the `VARsim.py` script, we aim to understand the influence of past values on current system states through multivariate time series simulation and visualization.\n"
   ]
  },
  {
   "cell_type": "markdown",
   "metadata": {},
   "source": [
    "### Example Usage\n",
    "\n",
    "While the detailed implementation for multivariate VAR simulation in `VARsim.py` might be complex, an example usage scenario could involve specifying multiple coefficient matrices for each lag and using a dedicated method to generate and analyze the simulated data:\n",
    "\n",
    "```python\n",
    "# Assuming the VARSimulator class has been extended to handle multivariate VAR simulation\n",
    "from VARsim import VARSimulator\n",
    "\n",
    "# Example specification for a VAR(1) model\n",
    "coefficients_lag1 = [[0.5, -0.1], [0.4, 0.8]]\n",
    "coefficients_lag2 = [[0.2, 0.0], [-0.2, 0.5]]\n",
    "initial_values = [[1], [2]]\n",
    "noise_stddev = 1.0\n",
    "\n",
    "# Instantiate the simulator with parameters for a VAR(1) model\n",
    "var_simulator = VARSimulator(n_obs=100, coefficients=[coefficients_lag1, coefficients_lag2], initial_values=initial_values, noise_stddev=noise_stddev)\n",
    "\n",
    "# Generate and plot the simulated data\n",
    "simulated_data = var_simulator.simulate_multivariate_var()\n"
   ]
  },
  {
   "cell_type": "code",
   "execution_count": null,
   "metadata": {},
   "outputs": [],
   "source": [
    "import sys\n",
    "sys.path.append(\"../../\")\n",
    "sys.path.append(\"../../BVAR\")"
   ]
  },
  {
   "cell_type": "code",
   "execution_count": null,
   "metadata": {},
   "outputs": [],
   "source": [
    "from BVAR.VARsim import *"
   ]
  },
  {
   "cell_type": "code",
   "execution_count": null,
   "metadata": {},
   "outputs": [],
   "source": [
    "# Simulating a multivariate VAR(1) process\n",
    "\n",
    "n_obs = 100\n",
    "nX = 2\n",
    "A = np.array([[0.8, -0.2], [0.3, 0.5]])\n",
    "X0 = np.array([1, 2]).reshape((2, 1))\n",
    "nS = 3\n",
    "# B = np.array([[0, 0], [0.3, 0.5]])\n",
    "B = np.zeros((nS, nX))\n",
    "B[0, 1] = 0.8\n",
    "B[2, 1] = -0.5\n",
    "# print(B)\n",
    "S0 = np.zeros(nS).reshape((nS, 1))\n",
    "simulator = VARSimulator(n_obs=n_obs, coefficients=A,\n",
    "                         initial_values=X0, noise_stddev=4.0, output='show')\n",
    "simulator.run(\"MVARsim\", coefficientsM=B, initial_valuesM=S0)\n",
    "\n",
    "simulator.print_parameters()"
   ]
  },
  {
   "cell_type": "code",
   "execution_count": null,
   "metadata": {},
   "outputs": [],
   "source": [
    "n_obs = 100\n",
    "nX = 2\n",
    "A = np.array([[0.8, -0.2], [0.3, 0.5]])\n",
    "X0 = np.array([1, 2]).reshape((2, 1))\n",
    "nS = 3\n",
    "# B = np.array([[0, 0], [0.3, 0.5]])\n",
    "B = np.zeros((nS, nX))\n",
    "B[0, 1] = 0.8\n",
    "B[2, 1] = -0.5\n",
    "# print(B)\n",
    "S0 = np.zeros(nS).reshape((nS, 1))\n",
    "simulator = VARSimulator(n_obs=n_obs, coefficients=A,\n",
    "                         initial_values=X0, noise_stddev=4.0, output='none')\n",
    "simulator.run(\"MVARsim\", coefficientsM=B, initial_valuesM=S0)\n",
    "\n",
    "# Call the make_plot_stacked() method\n",
    "make_plot_stacked(simulator.data, simulator.dataM)"
   ]
  }
 ],
 "metadata": {
  "kernelspec": {
   "display_name": "MIMIC",
   "language": "python",
   "name": "python3"
  },
  "language_info": {
   "name": "python",
   "version": "3.11.7"
  }
 },
 "nbformat": 4,
 "nbformat_minor": 2
}
