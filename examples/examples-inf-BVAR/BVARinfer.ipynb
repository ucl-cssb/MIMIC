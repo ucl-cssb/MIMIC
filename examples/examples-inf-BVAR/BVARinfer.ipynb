{
 "cells": [
  {
   "cell_type": "markdown",
   "metadata": {},
   "source": [
    "# Bayesian Inference for Vector AutoRegression (VAR) Models\n",
    "\n",
    "## Introduction to Bayesian VAR\n",
    "\n",
    "Bayesian inference provides a powerful framework for estimating the parameters of *Vector AutoRegression* (VAR) models, incorporating prior knowledge and uncertainty into the analysis. Unlike classical estimation methods that rely solely on the observed data, Bayesian approaches allow for the integration of prior beliefs about the parameters' likely values, which can be particularly useful in situations with limited or noisy data.\n",
    "\n",
    "### Bayesian VAR Process\n",
    "\n",
    "The *Bayesian VAR* (BVAR) model extends the traditional VAR model by applying Bayes' theorem to estimate the posterior distributions of the model's parameters. The general formulation of a VAR(p) model in the Bayesian framework can be expressed as:\n",
    "\n",
    "$$ X_t = A_1 \\cdot X_{t-1} + A_2 \\cdot X_{t-2} + \\dots + A_p \\cdot X_{t-p} + \\epsilon_t $$\n",
    "\n",
    "where:\n",
    "- $ X_t $ is the vector of variables at time $ t $,\n",
    "- $ A_1, A_2, \\dots, A_p $ are the matrices of coefficients for each lag,\n",
    "- $ \\epsilon_t $ is the vector of error terms, which are assumed to follow a normal distribution with mean 0 and covariance matrix $ \\Sigma $.\n",
    "\n",
    "In the Bayesian setting, the focus shifts to estimating the posterior distributions of the coefficients $ A_1, A_2, \\dots, A_p $ and the error covariance matrix $ \\Sigma $ given the observed data and prior distributions for these parameters.\n",
    "\n",
    "### Implementation in `VARinfer.py`\n",
    "\n",
    "A typical Bayesian VAR model implementation involves:\n",
    "\n",
    "1. **Defining Prior Distributions**: Specifying prior distributions for the VAR model parameters based on previous studies, expert knowledge, or other relevant information.\n",
    "2. **Computing Posterior Distributions**: Using Bayes' theorem to update the prior distributions with information from the observed data, resulting in posterior distributions that reflect both the prior beliefs and the evidence from the data.\n",
    "3. **Parameter Estimation and Inference**: Drawing samples from the posterior distributions of the model parameters to perform inference, estimate model dynamics, and make predictions.\n",
    "4. **Visualization and Analysis**: Generating plots and summaries of the posterior distributions, predicted values, and other quantities of interest to analyze the model results.\n",
    "\n",
    "## Notebook Structure\n",
    "\n",
    "This notebook demonstrates how to run BVAR inference on simulated data using the `VARinfer` class. We will explore different methodologies for importing data, estimating the posterior distributions of a VAR model, and visualizing the results to gain insights into the dynamics of the system.\n",
    "\n",
    "## Objective\n",
    "\n",
    "Our goal is to infer the posterior distribution of a VAR model's parameters using Bayesian methods. By employing the `VARinfer` class, we aim to visualize the posterior distributions and leverage the `plot_posteriors` method to extract and understand the dynamics inherent in the VAR model process.\n"
   ]
  },
  {
   "cell_type": "markdown",
   "metadata": {},
   "source": [
    "## Example Usage"
   ]
  }
 ],
 "metadata": {
  "kernelspec": {
   "display_name": "MIMIC",
   "language": "python",
   "name": "python3"
  },
  "language_info": {
   "name": "python",
   "version": "3.11.7"
  }
 },
 "nbformat": 4,
 "nbformat_minor": 2
}
