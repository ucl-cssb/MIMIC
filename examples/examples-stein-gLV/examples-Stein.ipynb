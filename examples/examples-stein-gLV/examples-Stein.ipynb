{
 "cells": [
  {
   "cell_type": "code",
   "execution_count": 4,
   "id": "f07fa1f2-187e-4ce0-af95-31d6120977fe",
   "metadata": {},
   "outputs": [],
   "source": [
    "import numpy as np\n",
    "import matplotlib.pyplot as plt\n",
    "from scipy.integrate import odeint\n",
    "\n",
    "import pandas as pd\n",
    "import seaborn as sns\n",
    "\n",
    "import sys\n",
    "sys.path.append(\"../../\")\n",
    "\n",
    "from gMLV import *\n",
    "#import importlib\n",
    "# import gMLV_ML\n",
    "# import gMLV_sim\n",
    "#importlib.reload(gMLV_ML);\n",
    "#importlib.reload(gMLV_sim);"
   ]
  },
  {
   "cell_type": "code",
   "execution_count": 5,
   "id": "f24a82c9-f85e-49db-979d-f23fae68f172",
   "metadata": {},
   "outputs": [],
   "source": [
    "# some plotting functions\n",
    "def plot_fit_gLV(yobs, y0, nsp, m_h, M_h):\n",
    "    # plot the fit\n",
    "    cols = [\"red\", \"green\", \"blue\", \"royalblue\",\"black\"]\n",
    "    #cols = [1,2,3,4,5]\n",
    "    yobs_pred = odeint(gLV, y0, times, args=(nsp, mu_h, M_h))\n",
    "    for i in range(nsp):\n",
    "        plt.plot(times, yobs[:, i], color=cols[i])\n",
    "        plt.plot(times, yobs_pred[:, i], '--', color=cols[i])\n",
    "\n",
    "def plot_params(mu_h, M_h, e_h ):\n",
    "    print(\"\\ninferred params:\")\n",
    "    print(\"mu_hat/mu:\")\n",
    "    print(np.array(mu_h))\n",
    "    print(\"\\nM_hat/M:\")\n",
    "    print(np.round(np.array(M_h),decimals=2))\n",
    "    print(\"e_hat/e:\")\n",
    "    print(np.array(e_h))\n",
    "\n",
    "    # plot the params\n",
    "    plt.figure(figsize=(6.4*3,4.8))\n",
    "    plt.subplot(1, 3, 1)\n",
    "    plt.stem(np.arange(0,nsp, dtype=\"int32\"), np.array(mu_h), markerfmt=\"D\")\n",
    "\n",
    "    plt.subplot(1, 3, 2)\n",
    "    plt.stem(np.arange(0,nsp*nsp), np.array(M_h).flatten(), markerfmt=\"D\")\n",
    "    \n",
    "    plt.subplot(1, 3, 3)\n",
    "    plt.stem(np.arange(0,nsp), np.array(e_h), markerfmt=\"D\")\n",
    "    "
   ]
  },
  {
   "cell_type": "markdown",
   "id": "27f9ef3f-7097-401a-80ab-fe8e92ff7eba",
   "metadata": {},
   "source": [
    "## Repeat Stein et al. 2013 analysis\n"
   ]
  },
  {
   "cell_type": "code",
   "execution_count": 8,
   "id": "6cc88f5d-7f4e-4383-a111-52d19c10ba6f",
   "metadata": {},
   "outputs": [
    {
     "ename": "TypeError",
     "evalue": "fit_alpha_Ridge2() missing 1 required positional argument: 'num_pert'",
     "output_type": "error",
     "traceback": [
      "\u001b[0;31m---------------------------------------------------------------------------\u001b[0m",
      "\u001b[0;31mTypeError\u001b[0m                                 Traceback (most recent call last)",
      "\u001b[0;32m<ipython-input-8-013088f24d29>\u001b[0m in \u001b[0;36m<module>\u001b[0;34m\u001b[0m\n\u001b[1;32m     16\u001b[0m \u001b[0;34m\u001b[0m\u001b[0m\n\u001b[1;32m     17\u001b[0m \u001b[0;31m# get the best lambda/alpha values on a grid via cross validation\u001b[0m\u001b[0;34m\u001b[0m\u001b[0;34m\u001b[0m\u001b[0;34m\u001b[0m\u001b[0m\n\u001b[0;32m---> 18\u001b[0;31m \u001b[0ma0\u001b[0m\u001b[0;34m,\u001b[0m \u001b[0ma1\u001b[0m\u001b[0;34m,\u001b[0m \u001b[0ma2\u001b[0m \u001b[0;34m=\u001b[0m \u001b[0mfit_alpha_Ridge2\u001b[0m\u001b[0;34m(\u001b[0m\u001b[0mX\u001b[0m\u001b[0;34m.\u001b[0m\u001b[0mto_numpy\u001b[0m\u001b[0;34m(\u001b[0m\u001b[0;34m)\u001b[0m\u001b[0;34m,\u001b[0m \u001b[0mF\u001b[0m\u001b[0;34m.\u001b[0m\u001b[0mto_numpy\u001b[0m\u001b[0;34m(\u001b[0m\u001b[0;34m)\u001b[0m\u001b[0;34m,\u001b[0m \u001b[0mnum_species\u001b[0m\u001b[0;34m=\u001b[0m\u001b[0mnsp\u001b[0m\u001b[0;34m,\u001b[0m \u001b[0mn_a0\u001b[0m\u001b[0;34m=\u001b[0m\u001b[0;36m10\u001b[0m\u001b[0;34m,\u001b[0m \u001b[0mn_a1\u001b[0m\u001b[0;34m=\u001b[0m\u001b[0;36m10\u001b[0m\u001b[0;34m,\u001b[0m \u001b[0mn_a2\u001b[0m\u001b[0;34m=\u001b[0m\u001b[0;36m10\u001b[0m\u001b[0;34m)\u001b[0m\u001b[0;34m\u001b[0m\u001b[0;34m\u001b[0m\u001b[0m\n\u001b[0m\u001b[1;32m     19\u001b[0m \u001b[0;34m\u001b[0m\u001b[0m\n\u001b[1;32m     20\u001b[0m \u001b[0;31m# do final fit\u001b[0m\u001b[0;34m\u001b[0m\u001b[0;34m\u001b[0m\u001b[0;34m\u001b[0m\u001b[0m\n",
      "\u001b[0;31mTypeError\u001b[0m: fit_alpha_Ridge2() missing 1 required positional argument: 'num_pert'"
     ]
    }
   ],
   "source": [
    "nsp = 11\n",
    "# read in \n",
    "F = pd.read_csv('Stein_example_F.csv', delimiter = ',')\n",
    "X = pd.read_csv('Stein_example_Y.csv', delimiter = ',')\n",
    "\n",
    "#print(F)\n",
    "#print(X)\n",
    "\n",
    "F = F.drop(F.columns[[0, 1]], axis=1) \n",
    "X = X.drop(X.columns[[0, 1]], axis=1) \n",
    "\n",
    "colnames = F.columns.to_list()\n",
    "\n",
    "#print(F.shape)\n",
    "#print(X.shape)\n",
    "\n",
    "# get the best lambda/alpha values on a grid via cross validation\n",
    "a0, a1, a2 = fit_alpha_Ridge2(X.to_numpy(), F.to_numpy(), num_species=nsp, n_a0=10, n_a1=10, n_a2=10)\n",
    "\n",
    "# do final fit\n",
    "mu_h, M_h, e_h = do_final_fit_Ridge2(X.to_numpy(), F.to_numpy(), nsp, a0=a0, a1=a1, a2=a2)\n",
    "\n",
    "predictor = gMLV_sim(num_species=num_species,\n",
    "                     num_metabolites=num_metabolites,\n",
    "                     M=M_h,\n",
    "                     mu=mu_h,\n",
    "                     epsilon=e_h)\n",
    "\n",
    "# this does the stem plots with orange crosses the actual parameters\n",
    "plot_params(mu_h, M_h, e_h)\n",
    "\n",
    "# plot interaction matrix\n",
    "plt.figure(figsize=(6.4*2,6.4*2))\n",
    "lims = np.max( [np.max(M_h), np.abs(np.min(M_h)) ] )\n",
    "sns.heatmap(M_h, xticklabels=colnames, yticklabels=colnames, square=True, vmin=-lims, vmax=lims, annot=True, fmt=\".2f\", cmap='coolwarm');\n"
   ]
  }
 ],
 "metadata": {
  "kernelspec": {
   "display_name": "Python 3",
   "language": "python",
   "name": "python3"
  },
  "language_info": {
   "codemirror_mode": {
    "name": "ipython",
    "version": 3
   },
   "file_extension": ".py",
   "mimetype": "text/x-python",
   "name": "python",
   "nbconvert_exporter": "python",
   "pygments_lexer": "ipython3",
   "version": "3.8.8"
  }
 },
 "nbformat": 4,
 "nbformat_minor": 5
}
